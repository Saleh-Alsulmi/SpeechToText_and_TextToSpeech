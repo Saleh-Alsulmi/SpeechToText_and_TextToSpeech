{
 "cells": [
  {
   "cell_type": "code",
   "execution_count": 3,
   "id": "21374377",
   "metadata": {},
   "outputs": [
    {
     "name": "stdout",
     "output_type": "stream",
     "text": [
      "Requirement already satisfied: ibm_watson in e:\\wd blue box\\watson\\anaconda\\lib\\site-packages (5.2.2)\n",
      "Requirement already satisfied: requests<3.0,>=2.0 in e:\\wd blue box\\watson\\anaconda\\lib\\site-packages (from ibm_watson) (2.25.1)\n",
      "Requirement already satisfied: ibm-cloud-sdk-core==3.*,>=3.3.6 in e:\\wd blue box\\watson\\anaconda\\lib\\site-packages (from ibm_watson) (3.10.1)\n",
      "Requirement already satisfied: websocket-client==1.1.0 in e:\\wd blue box\\watson\\anaconda\\lib\\site-packages (from ibm_watson) (1.1.0)\n",
      "Requirement already satisfied: python-dateutil>=2.5.3 in e:\\wd blue box\\watson\\anaconda\\lib\\site-packages (from ibm_watson) (2.8.1)\n",
      "Requirement already satisfied: PyJWT<3.0.0,>=2.0.1 in e:\\wd blue box\\watson\\anaconda\\lib\\site-packages (from ibm-cloud-sdk-core==3.*,>=3.3.6->ibm_watson) (2.1.0)\n",
      "Requirement already satisfied: six>=1.5 in e:\\wd blue box\\watson\\anaconda\\lib\\site-packages (from python-dateutil>=2.5.3->ibm_watson) (1.15.0)\n",
      "Requirement already satisfied: chardet<5,>=3.0.2 in e:\\wd blue box\\watson\\anaconda\\lib\\site-packages (from requests<3.0,>=2.0->ibm_watson) (4.0.0)\n",
      "Requirement already satisfied: urllib3<1.27,>=1.21.1 in e:\\wd blue box\\watson\\anaconda\\lib\\site-packages (from requests<3.0,>=2.0->ibm_watson) (1.26.4)\n",
      "Requirement already satisfied: idna<3,>=2.5 in e:\\wd blue box\\watson\\anaconda\\lib\\site-packages (from requests<3.0,>=2.0->ibm_watson) (2.10)\n",
      "Requirement already satisfied: certifi>=2017.4.17 in e:\\wd blue box\\watson\\anaconda\\lib\\site-packages (from requests<3.0,>=2.0->ibm_watson) (2020.12.5)\n"
     ]
    }
   ],
   "source": [
    "!pip install ibm_watson"
   ]
  },
  {
   "cell_type": "code",
   "execution_count": 4,
   "id": "b11b8d6e",
   "metadata": {},
   "outputs": [
    {
     "name": "stdout",
     "output_type": "stream",
     "text": [
      "Requirement already satisfied: ibm_cloud_sdk_core in e:\\wd blue box\\watson\\anaconda\\lib\\site-packages (3.10.1)\n",
      "Requirement already satisfied: python-dateutil<3.0.0,>=2.5.3 in e:\\wd blue box\\watson\\anaconda\\lib\\site-packages (from ibm_cloud_sdk_core) (2.8.1)\n",
      "Requirement already satisfied: PyJWT<3.0.0,>=2.0.1 in e:\\wd blue box\\watson\\anaconda\\lib\\site-packages (from ibm_cloud_sdk_core) (2.1.0)\n",
      "Requirement already satisfied: requests<3.0,>=2.20 in e:\\wd blue box\\watson\\anaconda\\lib\\site-packages (from ibm_cloud_sdk_core) (2.25.1)\n",
      "Requirement already satisfied: six>=1.5 in e:\\wd blue box\\watson\\anaconda\\lib\\site-packages (from python-dateutil<3.0.0,>=2.5.3->ibm_cloud_sdk_core) (1.15.0)\n",
      "Requirement already satisfied: certifi>=2017.4.17 in e:\\wd blue box\\watson\\anaconda\\lib\\site-packages (from requests<3.0,>=2.20->ibm_cloud_sdk_core) (2020.12.5)\n",
      "Requirement already satisfied: urllib3<1.27,>=1.21.1 in e:\\wd blue box\\watson\\anaconda\\lib\\site-packages (from requests<3.0,>=2.20->ibm_cloud_sdk_core) (1.26.4)\n",
      "Requirement already satisfied: idna<3,>=2.5 in e:\\wd blue box\\watson\\anaconda\\lib\\site-packages (from requests<3.0,>=2.20->ibm_cloud_sdk_core) (2.10)\n",
      "Requirement already satisfied: chardet<5,>=3.0.2 in e:\\wd blue box\\watson\\anaconda\\lib\\site-packages (from requests<3.0,>=2.20->ibm_cloud_sdk_core) (4.0.0)\n"
     ]
    }
   ],
   "source": [
    "!pip install ibm_cloud_sdk_core"
   ]
  },
  {
   "cell_type": "code",
   "execution_count": 5,
   "id": "93282ab2",
   "metadata": {},
   "outputs": [],
   "source": [
    "from ibm_watson import TextToSpeechV1"
   ]
  },
  {
   "cell_type": "code",
   "execution_count": 6,
   "id": "ebdbb96f",
   "metadata": {},
   "outputs": [],
   "source": [
    "from ibm_cloud_sdk_core.authenticators import IAMAuthenticator"
   ]
  },
  {
   "cell_type": "code",
   "execution_count": 7,
   "id": "9a977be9",
   "metadata": {},
   "outputs": [],
   "source": [
    "api = IAMAuthenticator(\"B-TA1CyWXUxbt6ErQBEHVTblsqDLVWTkA3-jr59flrF2\")"
   ]
  },
  {
   "cell_type": "code",
   "execution_count": 8,
   "id": "cf297c74",
   "metadata": {},
   "outputs": [],
   "source": [
    "Text_2_Speech = TextToSpeechV1(authenticator=api)"
   ]
  },
  {
   "cell_type": "code",
   "execution_count": 9,
   "id": "fbd82f0a",
   "metadata": {},
   "outputs": [],
   "source": [
    "Text_2_Speech.set_service_url(\"https://api.eu-gb.text-to-speech.watson.cloud.ibm.com/instances/583296de-df7c-4a80-8584-fe98ee9479b0\")"
   ]
  },
  {
   "cell_type": "code",
   "execution_count": 10,
   "id": "c9e4f142",
   "metadata": {},
   "outputs": [],
   "source": [
    "with open('myvoice.mp3', 'wb') as audiofile:\n",
    "    audiofile.write(\n",
    "    \n",
    "    Text_2_Speech.synthesize(\"How this robot can be controlled\" , accept=\"audio/mp3\").get_result().content\n",
    "    \n",
    "    )"
   ]
  },
  {
   "cell_type": "code",
   "execution_count": 13,
   "id": "a058f219",
   "metadata": {},
   "outputs": [],
   "source": [
    "with open('myspeech.txt') as Textfile:\n",
    "    data = Textfile.read()\n",
    "    Textfile.close()"
   ]
  },
  {
   "cell_type": "code",
   "execution_count": 15,
   "id": "5a5ced03",
   "metadata": {},
   "outputs": [],
   "source": [
    "with open('Tospeech.mp3', 'wb') as audiofile2:\n",
    "    audiofile2.write(\n",
    "    \n",
    "    Text_2_Speech.synthesize(data,accept=\"audio/mp3\").get_result().content\n",
    "    \n",
    "    )"
   ]
  },
  {
   "cell_type": "code",
   "execution_count": null,
   "id": "6a91b1e0",
   "metadata": {},
   "outputs": [],
   "source": []
  }
 ],
 "metadata": {
  "kernelspec": {
   "display_name": "Python 3",
   "language": "python",
   "name": "python3"
  },
  "language_info": {
   "codemirror_mode": {
    "name": "ipython",
    "version": 3
   },
   "file_extension": ".py",
   "mimetype": "text/x-python",
   "name": "python",
   "nbconvert_exporter": "python",
   "pygments_lexer": "ipython3",
   "version": "3.8.8"
  }
 },
 "nbformat": 4,
 "nbformat_minor": 5
}
